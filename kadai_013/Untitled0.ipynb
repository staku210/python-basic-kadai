{
  "nbformat": 4,
  "nbformat_minor": 0,
  "metadata": {
    "colab": {
      "provenance": []
    },
    "kernelspec": {
      "name": "python3",
      "display_name": "Python 3"
    },
    "language_info": {
      "name": "python"
    }
  },
  "cells": [
    {
      "cell_type": "code",
      "source": [
        "def calculate_result(price,consumption_tax):\n",
        "    tax_amount=price*consumption_tax/100\n",
        "    total=price+tax_amount\n",
        "    return total\n",
        "\n",
        "print(calculate_result(110,10))"
      ],
      "metadata": {
        "colab": {
          "base_uri": "https://localhost:8080/"
        },
        "id": "hf_RZzG96_yS",
        "outputId": "87ddb8ae-183f-48d8-b5d3-b821803c8abf"
      },
      "execution_count": 7,
      "outputs": [
        {
          "output_type": "stream",
          "name": "stdout",
          "text": [
            "121.0\n"
          ]
        }
      ]
    }
  ]
}