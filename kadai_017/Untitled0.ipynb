{
  "nbformat": 4,
  "nbformat_minor": 0,
  "metadata": {
    "colab": {
      "provenance": []
    },
    "kernelspec": {
      "name": "python3",
      "display_name": "Python 3"
    },
    "language_info": {
      "name": "python"
    }
  },
  "cells": [
    {
      "cell_type": "code",
      "source": [
        "class Human:\n",
        "    def __init__(self,name,age):\n",
        "        self.name=name\n",
        "        self.age=age\n",
        "\n",
        "    def check_adult(self):\n",
        "        if self.age>=20:\n",
        "            print(\"大人である\")\n",
        "        else:\n",
        "            print(\"大人でない\")\n",
        "\n",
        "human_1=Human(\"坂本拓夢\",21)\n",
        "human_2=Human(\"鈴木太郎\",10)\n",
        "human_3=Human(\"山田京子\",30)\n",
        "\n",
        "humans=[human_1,human_2,human_3]\n",
        "\n",
        "for i in humans:\n",
        "    i.check_adult()"
      ],
      "metadata": {
        "colab": {
          "base_uri": "https://localhost:8080/"
        },
        "id": "vD2VbmRdYsz2",
        "outputId": "641ac81a-1d1c-4d64-d2ea-34104d4b00e3"
      },
      "execution_count": 7,
      "outputs": [
        {
          "output_type": "stream",
          "name": "stdout",
          "text": [
            "大人である\n",
            "大人でない\n",
            "大人である\n"
          ]
        }
      ]
    }
  ]
}