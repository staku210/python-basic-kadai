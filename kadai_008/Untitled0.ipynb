{
  "nbformat": 4,
  "nbformat_minor": 0,
  "metadata": {
    "colab": {
      "provenance": []
    },
    "kernelspec": {
      "name": "python3",
      "display_name": "Python 3"
    },
    "language_info": {
      "name": "python"
    }
  },
  "cells": [
    {
      "cell_type": "code",
      "source": [
        "import random\n",
        "\n",
        "var=random.randint(1,100)\n",
        "\n",
        "if var%3==0 and var%5==0:\n",
        "    print(\"FizzBozz\")\n",
        "elif var%5==0:\n",
        "    print(\"Bozz\")\n",
        "elif var%3==0:\n",
        "    print(\"Fizz\")\n",
        "else:\n",
        "    print(var)"
      ],
      "metadata": {
        "colab": {
          "base_uri": "https://localhost:8080/"
        },
        "id": "6GIrWy5-i6Sj",
        "outputId": "1975df5a-b2b7-43cf-c3c3-6eb8b79ce4bb"
      },
      "execution_count": 46,
      "outputs": [
        {
          "output_type": "stream",
          "name": "stdout",
          "text": [
            "2\n"
          ]
        }
      ]
    }
  ]
}